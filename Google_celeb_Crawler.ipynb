{
 "metadata": {
  "language_info": {
   "codemirror_mode": {
    "name": "ipython",
    "version": 3
   },
   "file_extension": ".py",
   "mimetype": "text/x-python",
   "name": "python",
   "nbconvert_exporter": "python",
   "pygments_lexer": "ipython3",
   "version": "3.7.6-final"
  },
  "orig_nbformat": 2,
  "kernelspec": {
   "name": "python3",
   "language": "python",
   "display_name": "Python 3"
  }
 },
 "nbformat": 4,
 "nbformat_minor": 2,
 "cells": [
  {
   "cell_type": "code",
   "execution_count": 21,
   "outputs": [],
   "source": [
    "from openpyxl import load_workbook\n",
    "from selenium import webdriver\n",
    "import time\n",
    "from urllib.request import urlopen\n",
    "import os\n",
    "from PIL import Image\n",
    "\n",
    "path = '/Users/latankkomaengee/Documents/chromedriver'\n",
    "\n",
    "def create_folder(directory):\n",
    "    try:\n",
    "        if not os.path.exists(directory):\n",
    "            os.makedirs(directory)\n",
    "    except OSError:\n",
    "        print('OSError for ' + directory)\n",
    "\n",
    "def neat_name(original_name):\n",
    "    stripped = original_name.strip()\n",
    "    double_space = stripped.replace('  ', ' ')\n",
    "    new_name = double_space.replace(' ', '_')\n",
    "    return new_name"
   ],
   "metadata": {
    "collapsed": false,
    "pycharm": {
     "name": "#%%\n"
    }
   }
  },
  {
   "cell_type": "code",
   "execution_count": 22,
   "metadata": {},
   "outputs": [
    {
     "name": "stdout",
     "output_type": "stream",
     "text": [
      "394\n",
      "['GOT7 마크', '선율', '이은상', 'iKON 정찬우', 'AOA 찬미', '1TEAM BC', '업텐션 규진', '골든차일드 김동현', '에이프릴 김채원', '나플라', '로켓펀치 다현', 'TWICE 다현', 'NCT 도영', '프로미스나인 백지헌', '오마이걸 비니', '몬스타엑스 셔누', '로켓펀치 소희', 'AKB48 시마자키 하루카', '여자친구 신비', '안영미', 'CRAVITY 앨런', '아이즈원 야부키 나코', '에이프릴 양예나', 'GOT7 진영', 'GOT7 영재', '잇지 예지', '에버글로우 온다', '우주소녀 루다', 'BTOB 이민혁', '프로미스나인 이서연', 'NCT 재민', '세븐틴 정한', '위키미키 지수연', '차준호', '엔플라잉 차훈', '최강창민', '강승윤', '김보라', '김새론', '김이나', '닉쿤', '드림캐쳐 다미', '빅스 레오', '우주소녀 루다', '러블리즈 류수정', '성유리', '걸스데이 소진', '마마무 솔라', '위키미키 세이', '위키미키 루아', '위키미키 리나', '여자친구 엄지', '세븐틴 원우', '세븐틴 우지', '세븐틴 디에잇', '아나운서 이재은', 'KARD 전지우', '1TEAM 제현', '티아라 지연', 'EXO 카이', '태연', 'GOT7 JB', 'NCT 마크', '강동원', '구혜선', '김유정', '손나은', '잇지 류진', 'SF9 다원', '서태지', '가수 이바다', '이수혁', '강소휘', '인피니트 성규', 'TWICE 나연', '류제홍', '박명수', '배성재', '유혜주', '유빈', '여자친구 은하', '장성규', '펜타곤 진호', '스트레이 키즈 한', '홍진경', 'ONEUS 환웅', '업텐션 고결', '권정열', 'iKON 김진환', '핫샷 노태현', 'DAY6 도운', 'EXO 백현', 'AOA 설현', '투모로우바이투게더 수빈', '수진', '레드벨벳 슬기', '크로스진 신', '뉴이스트 아론', 'SF9 영빈', '유재석', 'Apink 윤보미', '오재일', '오헬리엉 루베르', '은지원', 'ONEUS 이도', '인교진', '프로미스나인 장규리', 'NCT 제노', 'TWICE 지효', 'TWICE 미나', 'TWICE 쯔위', '진세연', '틴탑 천지', '위키미키 최유정', '테라다 타쿠야', '하상욱 얼굴', '몬스타엑스 I.M', 'KARD J.Seph', 'EXID LE', 'VERIVERY 강민', 'VERIVERY 계현', 'TOO 경호', 'TOO 치훈', '가수 기린', '김숙', '남도현', '우주소녀 다원', '우주소녀 보나', '우주소녀 설아', '더 콰이엇', '위키미키 루시', '래퍼 루피', 'TWICE 모모', 'TWICE 채영', '아스트로 문빈', '민효린', '백예린', '업텐션 샤오', '선미', '여자친구 소원', '프로미스나인 송하영', '프로미스나인 이새롬', '슬릭', '신수연', '신혜성', '오마이걸 아린', '아이유', '모모랜드 아인', '모모랜드 낸시', '세븐틴 도겸', '세븐틴 에스쿱스', '세븐틴 준', '세븐틴 호시', '레드벨벳 예리', '레드벨벳 조이', '에이핑크 오하영', '우원재', '아나운서 윤태진', 'DAY6 원필', '온앤오프 이션', '정려원', '더보이즈 제이콥', '더보이즈 영훈', '더보이즈 케빈', '더보이즈 뉴', '키드밀리', '타블로', '태민', '스트레이 키즈 현진', '몬스타엑스 형원', '에이티즈 홍중', '에이티즈 산', '펜타곤 후이', 'twlv', 'pH-1', '비아이', '바비', '감스트', '승헌쓰', '보물섬 이현석', '이말년', '방탄소년단 진', '방탄소년단 슈가', 'DAY6 Jae', 'JBJ95 상균', '정은지', '소연', '브라운 아이드 걸스 미료', '이달의 소녀 고원', '에버글로우 미아', '타일러 라쉬', '기안84', '재키 와이', '페퍼톤스 이장원', '안예은', 'NELL 김종완', 'NELL 이정훈', '라붐 소연', '박강현', '김풍', '기리보이', '창모', 'NCT 재현', '우주소녀 연정', '알렉스 맞추켈리', '최수영', '전웅', '배진영', '하성운', '이한결', '봉재현', 'KARD 전소민', '윤채경', '모모랜드 주이', '에버글로우 이유', '더보이즈 상연', '더보이즈 큐', '이가은', 'AKB 48 미야자키 미호', '비', '2PM 우영', '우주소녀 엑시', '위키미키 엘리', '권태은', '로시', '최문순', 'iKON 구준회', 'iKON 김동혁', 'god 박준형', '박지훈', '방탄소년단 뷔', '방탄소년단 RM', 'VERIVERY 동헌', 'VERIVERY 연호', '드림캐쳐 지유', '모모랜드 나윤', '모모랜드 혜빈', '1TEAM 루빈', '1TEAM 진우', '전소미', '홍진영', 'TWICE 사나', '세븐틴 버논', '세븐틴 승관', '뉴이스트 백호', 'WOODZ', '윤지성', '러블리즈 서지수', '정세운', '미연', '골든차일드  이장준', '골든차일드  홍주찬', '이승협', '펜타곤 우석', '펜타곤 신원', 'A.C.E 찬', 'NCT 해찬', 'ONEUS 건희', '스트레이 키즈 필릭스', '스트레이 키즈 창빈', '김동윤', '이협', '오진석', '업텐션 환희', '업텐션 쿤', '마마무 화사', '마마무 문별', '손동표', '국가비', '배우 박주현', '몬스타엑스 기현', '몬스타엑스 주헌', '정재원', '우주소녀 수빈', '이효리', '엠블랙 미르', '2PM 찬성', '투모로우바이투게더 연준', '투모로우바이투게더 휴닝카이', 'WINNER 송민호', '이무생', '박지예', '길병민', '오현민', '마이클 리', '슈퍼주니어 은혁', 'BTOB 육성재', '영케이', '라미란', '박경', '설리', '2001 이수민', '이영지', '이찬혁', '정준영', '정혁', '제시', '더보이즈 주연', '더보이즈 선우', '에버글로우 시현', '김수찬', '닥터프렌즈 우창윤', '강민아', '신화 김동완', '아나운서 김민아', '고은성', '윤산하', '한채영', 'GOT7 뱀뱀', '프듀 김민규', '이달의 소녀 김립', '모모랜드 제인', 'JYJ 김준수', '펜타곤 여원', '가수 이지혜', '슈퍼주니어 규현', 'Apink 김남주', '스트레이 키즈 리노', '슈퍼주니어 려욱', '민현', '에이티즈 성화', '스트레이 키즈 승민', '아이엔', '에이티즈 우영', '신화 앤디', '1TEAM 정훈', '에이티즈 종호', '혜리', '채정', '가린', '닥터프렌즈 오진승', '우주소녀 다영', '우주소녀 여름', '피오', '위키미키 김도연', '유선호', '문호준', 'KARD BM', '아나운서 김환', 'AB6IX 김동현', '강다니엘', '가수 김재환', '엑소 찬열', '엑소 수호', '세븐틴 조슈아', '세븐틴 민규', '세븐틴 디노', '몬스타엑스 민혁', 'iKON 송윤형', '방탄소년단 지민', 'GOT7 잭슨', '이진혁', '걸스데이 유라', '여자친구 예린', '여자친구 유주', '엔플라잉 김재현', '엔플라잉 유회승', 'SF9 인성', '에이프릴 진솔', '아이즈원 이채연', '잇지 리아', '잇지 유나', '오마이걸 승희', 'DAY6 성진', 'JBJ95 켄타', '빅스 켄', '티아라 소연', '스트레이 키즈 방찬', '더보이즈 에릭', '더보이즈 현재', '노잼봇', '박미선', '이달의 소녀 이브', '에버글로우 이런', '정승제', ' Jun.K', '김동빈', '우주소녀 은서', '김재중', '마크 테토', '왕심린', '유키스 수현', '현우진', '샤이니 키', '지코', '티파니', '스윙스', '업텐션 비토', '러블리즈 베이비소울', 'A.C.E 김병관', '슈퍼주니어 이특', '에버글로우 아샤', '닥터프렌즈 이낙준', 'NELL 이재경']\n"
     ]
    }
   ],
   "source": [
    "mbti = load_workbook('/Users/latankkomaengee/Desktop/Celebrity_MBTI.xlsx')\n",
    "sheet = mbti['Sheet1']\n",
    "\n",
    "names = []\n",
    "\n",
    "for row in sheet.iter_rows(min_row = 1, max_row = 400):\n",
    "    names.append(row[6].value)\n",
    "    if row[6].value is None:\n",
    "        names.remove(names[-1])\n",
    "        break\n",
    "    \n",
    "names.remove(names[0])\n",
    "\n",
    "print(len(names))\n",
    "print(names)"
   ]
  },
  {
   "cell_type": "markdown",
   "source": [
    "## Main Code"
   ],
   "metadata": {
    "collapsed": false,
    "pycharm": {
     "name": "#%% md\n"
    }
   }
  },
  {
   "cell_type": "code",
   "execution_count": 23,
   "metadata": {
    "tags": []
   },
   "outputs": [
    {
     "ename": "NoSuchWindowException",
     "evalue": "Message: no such window: target window already closed\nfrom unknown error: web view not found\n  (Session info: chrome=87.0.4280.141)\n",
     "output_type": "error",
     "traceback": [
      "\u001B[0;31m---------------------------------------------------------------------------\u001B[0m",
      "\u001B[0;31mNoSuchWindowException\u001B[0m                     Traceback (most recent call last)",
      "\u001B[0;32m<ipython-input-23-0af98f2274aa>\u001B[0m in \u001B[0;36m<module>\u001B[0;34m\u001B[0m\n\u001B[1;32m     13\u001B[0m                  str(names.index(name)+1))\n\u001B[1;32m     14\u001B[0m \u001B[0;34m\u001B[0m\u001B[0m\n\u001B[0;32m---> 15\u001B[0;31m     \u001B[0ma\u001B[0m \u001B[0;34m=\u001B[0m \u001B[0mdriver\u001B[0m\u001B[0;34m.\u001B[0m\u001B[0mfind_elements_by_class_name\u001B[0m\u001B[0;34m(\u001B[0m\u001B[0;34m'rg_i'\u001B[0m\u001B[0;34m)\u001B[0m\u001B[0;34m\u001B[0m\u001B[0;34m\u001B[0m\u001B[0m\n\u001B[0m\u001B[1;32m     16\u001B[0m \u001B[0;34m\u001B[0m\u001B[0m\n\u001B[1;32m     17\u001B[0m     \u001B[0msaved_count\u001B[0m \u001B[0;34m=\u001B[0m \u001B[0;36m0\u001B[0m\u001B[0;34m\u001B[0m\u001B[0;34m\u001B[0m\u001B[0m\n",
      "\u001B[0;32m~/.conda/envs/2020_UGRP/lib/python3.7/site-packages/selenium/webdriver/remote/webdriver.py\u001B[0m in \u001B[0;36mfind_elements_by_class_name\u001B[0;34m(self, name)\u001B[0m\n\u001B[1;32m    578\u001B[0m             \u001B[0melements\u001B[0m \u001B[0;34m=\u001B[0m \u001B[0mdriver\u001B[0m\u001B[0;34m.\u001B[0m\u001B[0mfind_elements_by_class_name\u001B[0m\u001B[0;34m(\u001B[0m\u001B[0;34m'foo'\u001B[0m\u001B[0;34m)\u001B[0m\u001B[0;34m\u001B[0m\u001B[0;34m\u001B[0m\u001B[0m\n\u001B[1;32m    579\u001B[0m         \"\"\"\n\u001B[0;32m--> 580\u001B[0;31m         \u001B[0;32mreturn\u001B[0m \u001B[0mself\u001B[0m\u001B[0;34m.\u001B[0m\u001B[0mfind_elements\u001B[0m\u001B[0;34m(\u001B[0m\u001B[0mby\u001B[0m\u001B[0;34m=\u001B[0m\u001B[0mBy\u001B[0m\u001B[0;34m.\u001B[0m\u001B[0mCLASS_NAME\u001B[0m\u001B[0;34m,\u001B[0m \u001B[0mvalue\u001B[0m\u001B[0;34m=\u001B[0m\u001B[0mname\u001B[0m\u001B[0;34m)\u001B[0m\u001B[0;34m\u001B[0m\u001B[0;34m\u001B[0m\u001B[0m\n\u001B[0m\u001B[1;32m    581\u001B[0m \u001B[0;34m\u001B[0m\u001B[0m\n\u001B[1;32m    582\u001B[0m     \u001B[0;32mdef\u001B[0m \u001B[0mfind_element_by_css_selector\u001B[0m\u001B[0;34m(\u001B[0m\u001B[0mself\u001B[0m\u001B[0;34m,\u001B[0m \u001B[0mcss_selector\u001B[0m\u001B[0;34m)\u001B[0m\u001B[0;34m:\u001B[0m\u001B[0;34m\u001B[0m\u001B[0;34m\u001B[0m\u001B[0m\n",
      "\u001B[0;32m~/.conda/envs/2020_UGRP/lib/python3.7/site-packages/selenium/webdriver/remote/webdriver.py\u001B[0m in \u001B[0;36mfind_elements\u001B[0;34m(self, by, value)\u001B[0m\n\u001B[1;32m   1005\u001B[0m         return self.execute(Command.FIND_ELEMENTS, {\n\u001B[1;32m   1006\u001B[0m             \u001B[0;34m'using'\u001B[0m\u001B[0;34m:\u001B[0m \u001B[0mby\u001B[0m\u001B[0;34m,\u001B[0m\u001B[0;34m\u001B[0m\u001B[0;34m\u001B[0m\u001B[0m\n\u001B[0;32m-> 1007\u001B[0;31m             'value': value})['value'] or []\n\u001B[0m\u001B[1;32m   1008\u001B[0m \u001B[0;34m\u001B[0m\u001B[0m\n\u001B[1;32m   1009\u001B[0m     \u001B[0;34m@\u001B[0m\u001B[0mproperty\u001B[0m\u001B[0;34m\u001B[0m\u001B[0;34m\u001B[0m\u001B[0m\n",
      "\u001B[0;32m~/.conda/envs/2020_UGRP/lib/python3.7/site-packages/selenium/webdriver/remote/webdriver.py\u001B[0m in \u001B[0;36mexecute\u001B[0;34m(self, driver_command, params)\u001B[0m\n\u001B[1;32m    319\u001B[0m         \u001B[0mresponse\u001B[0m \u001B[0;34m=\u001B[0m \u001B[0mself\u001B[0m\u001B[0;34m.\u001B[0m\u001B[0mcommand_executor\u001B[0m\u001B[0;34m.\u001B[0m\u001B[0mexecute\u001B[0m\u001B[0;34m(\u001B[0m\u001B[0mdriver_command\u001B[0m\u001B[0;34m,\u001B[0m \u001B[0mparams\u001B[0m\u001B[0;34m)\u001B[0m\u001B[0;34m\u001B[0m\u001B[0;34m\u001B[0m\u001B[0m\n\u001B[1;32m    320\u001B[0m         \u001B[0;32mif\u001B[0m \u001B[0mresponse\u001B[0m\u001B[0;34m:\u001B[0m\u001B[0;34m\u001B[0m\u001B[0;34m\u001B[0m\u001B[0m\n\u001B[0;32m--> 321\u001B[0;31m             \u001B[0mself\u001B[0m\u001B[0;34m.\u001B[0m\u001B[0merror_handler\u001B[0m\u001B[0;34m.\u001B[0m\u001B[0mcheck_response\u001B[0m\u001B[0;34m(\u001B[0m\u001B[0mresponse\u001B[0m\u001B[0;34m)\u001B[0m\u001B[0;34m\u001B[0m\u001B[0;34m\u001B[0m\u001B[0m\n\u001B[0m\u001B[1;32m    322\u001B[0m             response['value'] = self._unwrap_value(\n\u001B[1;32m    323\u001B[0m                 response.get('value', None))\n",
      "\u001B[0;32m~/.conda/envs/2020_UGRP/lib/python3.7/site-packages/selenium/webdriver/remote/errorhandler.py\u001B[0m in \u001B[0;36mcheck_response\u001B[0;34m(self, response)\u001B[0m\n\u001B[1;32m    240\u001B[0m                 \u001B[0malert_text\u001B[0m \u001B[0;34m=\u001B[0m \u001B[0mvalue\u001B[0m\u001B[0;34m[\u001B[0m\u001B[0;34m'alert'\u001B[0m\u001B[0;34m]\u001B[0m\u001B[0;34m.\u001B[0m\u001B[0mget\u001B[0m\u001B[0;34m(\u001B[0m\u001B[0;34m'text'\u001B[0m\u001B[0;34m)\u001B[0m\u001B[0;34m\u001B[0m\u001B[0;34m\u001B[0m\u001B[0m\n\u001B[1;32m    241\u001B[0m             \u001B[0;32mraise\u001B[0m \u001B[0mexception_class\u001B[0m\u001B[0;34m(\u001B[0m\u001B[0mmessage\u001B[0m\u001B[0;34m,\u001B[0m \u001B[0mscreen\u001B[0m\u001B[0;34m,\u001B[0m \u001B[0mstacktrace\u001B[0m\u001B[0;34m,\u001B[0m \u001B[0malert_text\u001B[0m\u001B[0;34m)\u001B[0m\u001B[0;34m\u001B[0m\u001B[0;34m\u001B[0m\u001B[0m\n\u001B[0;32m--> 242\u001B[0;31m         \u001B[0;32mraise\u001B[0m \u001B[0mexception_class\u001B[0m\u001B[0;34m(\u001B[0m\u001B[0mmessage\u001B[0m\u001B[0;34m,\u001B[0m \u001B[0mscreen\u001B[0m\u001B[0;34m,\u001B[0m \u001B[0mstacktrace\u001B[0m\u001B[0;34m)\u001B[0m\u001B[0;34m\u001B[0m\u001B[0;34m\u001B[0m\u001B[0m\n\u001B[0m\u001B[1;32m    243\u001B[0m \u001B[0;34m\u001B[0m\u001B[0m\n\u001B[1;32m    244\u001B[0m     \u001B[0;32mdef\u001B[0m \u001B[0m_value_or_default\u001B[0m\u001B[0;34m(\u001B[0m\u001B[0mself\u001B[0m\u001B[0;34m,\u001B[0m \u001B[0mobj\u001B[0m\u001B[0;34m,\u001B[0m \u001B[0mkey\u001B[0m\u001B[0;34m,\u001B[0m \u001B[0mdefault\u001B[0m\u001B[0;34m)\u001B[0m\u001B[0;34m:\u001B[0m\u001B[0;34m\u001B[0m\u001B[0;34m\u001B[0m\u001B[0m\n",
      "\u001B[0;31mNoSuchWindowException\u001B[0m: Message: no such window: target window already closed\nfrom unknown error: web view not found\n  (Session info: chrome=87.0.4280.141)\n"
     ]
    }
   ],
   "source": [
    "driver = webdriver.Chrome(path)\n",
    "driver.implicitly_wait(3)\n",
    "count = 0\n",
    "\n",
    "for name in names[:10]:\n",
    "    \n",
    "    ###### High Resolution ######\n",
    "    \n",
    "    url = 'https://www.google.co.in/search?q=' + name + '&tbm=isch&tbs=isz%3Al&hl=en-GB&ved=0CAEQpwVqFwoTCKDUxoS-0eoCFQAAAAAdAAAAABAC&biw=1200&bih=860'\n",
    "    #url = 'https://google.co.in/search?q=' + name + '&tbm=isch'\n",
    "    driver.get(url)\n",
    "    create_folder('/Users/latankkomaengee/2020 UGRP/Face/' + \\\n",
    "                 str(names.index(name)+1))\n",
    "\n",
    "    a = driver.find_elements_by_class_name('rg_i')\n",
    "\n",
    "    saved_count = 0\n",
    "    img_number = 0\n",
    "    print('{0}. {1}'.format(names.index(name)+1, name))\n",
    "\n",
    "    while saved_count < 10:\n",
    "        #print('img_number: {0}, saved: {1}'.format(img_number, saved_count))\n",
    "        if img_number > 14:\n",
    "            break\n",
    "        try:\n",
    "            b = a[img_number]\n",
    "            b.click()\n",
    "            time.sleep(1.5)\n",
    "            c = driver.find_element_by_xpath\\\n",
    "                ('//*[@id=\"Sva75c\"]/div/div/div[3]/div[2]/c-wiz/div[1]/div[1]/div/div[2]/a/img')\n",
    "            source = c.get_attribute('src')\n",
    "            #print(source)\n",
    "            #os.system('curl ' + source + ' > /Users/latankkomaengee/Desktop/Test/' + str(i+1) + '.jpg')\n",
    "            t = urlopen(source).read()\n",
    "            filename = '/Users/latankkomaengee/2020 UGRP/Face/' + \\\n",
    "                str(names.index(name)+1) + '/' + str(saved_count+1).zfill(3) + '.jpg'\n",
    "            with open(filename, \"wb\") as f:\n",
    "                f.write(t)\n",
    "        except:\n",
    "            img_number += 1\n",
    "            continue\n",
    "        else:\n",
    "            try:\n",
    "                size = os.path.getsize(filename)\n",
    "                img = Image.open(filename)\n",
    "            except:\n",
    "                os.remove(filename)\n",
    "            else:\n",
    "                height, width = img.size\n",
    "                pixels = height * width\n",
    "                if int(size) >= 80000 and pixels >= 400000 and 0.5625 <= height/width < 2:\n",
    "                    #print(size, pixels)\n",
    "                    saved_count += 1\n",
    "                    #print('Image Saved: {0}/{1}, {2}KB, {3}MP'.format(saved_count, img_number+1,\n",
    "                    #    round(size/1000, 2), round(pixels/1000000, 2)))\n",
    "                else:\n",
    "                    os.remove(filename)\n",
    "                img_number += 1\n",
    "    print('Image Saved: {0}/{1}'.format(saved_count, img_number))\n",
    "\n",
    "    ###### Normal ######\n",
    "\n",
    "    #url = 'https://www.google.co.in/search?q=' + name + '&tbm=isch&tbs=isz%3Al&hl=en-GB&ved=0CAEQpwVqFwoTCKDUxoS-0eoCFQAAAAAdAAAAABAC&biw=1200&bih=860'\n",
    "    url = 'https://google.co.in/search?q=' + name + '&tbm=isch'\n",
    "    driver.get(url)\n",
    "    #create_folder('/Users/latankkomaengee/Desktop/Face/' + str(names.index(name)+1))\n",
    "\n",
    "    a = driver.find_elements_by_class_name('rg_i')\n",
    "\n",
    "    saved_count = 0\n",
    "    img_number = 0\n",
    "\n",
    "    while saved_count < 10:\n",
    "        #print('img_number: {0}, saved: {1}'.format(img_number, saved_count))\n",
    "        if img_number > 19:\n",
    "            break\n",
    "        try:\n",
    "            b = a[img_number]\n",
    "            b.click()\n",
    "            time.sleep(1.5)\n",
    "            c = driver.find_element_by_xpath\\\n",
    "                ('//*[@id=\"Sva75c\"]/div/div/div[3]/div[2]/c-wiz/div[1]/div[1]/div/div[2]/a/img')\n",
    "            source = c.get_attribute('src')\n",
    "            #print(source)\n",
    "            #os.system('curl ' + source + ' > /Users/latankkomaengee/Desktop/Test/' + str(i+1) + '.jpg')\n",
    "            t = urlopen(source).read()\n",
    "            filename = '/Users/latankkomaengee/2020 UGRP/Face/' + \\\n",
    "                str(names.index(name)+1) + '/' + str(saved_count+101) + '.jpg'\n",
    "            with open(filename, \"wb\") as f:\n",
    "                f.write(t)\n",
    "        except:\n",
    "            img_number += 1\n",
    "            continue\n",
    "        else:\n",
    "            try:\n",
    "                size = os.path.getsize(filename)\n",
    "                img = Image.open(filename)\n",
    "            except:\n",
    "                os.remove(filename)\n",
    "            else:\n",
    "                height, width = img.size\n",
    "                pixels = height * width\n",
    "                if int(size) >= 40000 and pixels >= 200000 and 0.5625 <= height/width < 2:\n",
    "                    #print(size, pixels)\n",
    "                    saved_count += 1\n",
    "                    #print('Image Saved: {0}/{1}, {2}KB, {3}MP'.format(saved_count, img_number+1,\n",
    "                    #    round(size/1000, 2), round(pixels/1000000, 2)))\n",
    "                else:\n",
    "                    os.remove(filename)\n",
    "                img_number += 1\n",
    "    print('Image Saved: {0}/{1}'.format(saved_count, img_number))\n",
    "\n",
    "    ###### With Face ######\n",
    "\n",
    "    #url = 'https://www.google.co.in/search?q=' + name + ' 얼굴&tbm=isch&tbs=isz%3Al&hl=en-GB&ved=0CAEQpwVqFwoTCKDUxoS-0eoCFQAAAAAdAAAAABAC&biw=1200&bih=860'\n",
    "    url = 'https://google.co.in/search?q=' + name + ' 얼굴&tbm=isch'\n",
    "    driver.get(url)\n",
    "    #create_folder('/Users/latankkomaengee/Desktop/Face/' + str(names.index(name)+1))\n",
    "\n",
    "    a = driver.find_elements_by_class_name('rg_i')\n",
    "\n",
    "    saved_count = 0\n",
    "    img_number = 0\n",
    "\n",
    "    while saved_count < 15:\n",
    "        #print('img_number: {0}, saved: {1}'.format(img_number, saved_count))\n",
    "        if img_number > 24:\n",
    "            break\n",
    "        try:\n",
    "            b = a[img_number]\n",
    "            b.click()\n",
    "            time.sleep(1.5)\n",
    "            c = driver.find_element_by_xpath\\\n",
    "                ('//*[@id=\"Sva75c\"]/div/div/div[3]/div[2]/c-wiz/div[1]/div[1]/div/div[2]/a/img')\n",
    "            source = c.get_attribute('src')\n",
    "            #print(source)\n",
    "            #os.system('curl ' + source + ' > /Users/latankkomaengee/Desktop/Test/' + str(i+1) + '.jpg')\n",
    "            t = urlopen(source).read()\n",
    "            filename = '/Users/latankkomaengee/2020 UGRP/Face/' + \\\n",
    "                str(names.index(name)+1) + '/' + str(saved_count+201) + '.jpg'\n",
    "            with open(filename, \"wb\") as f:\n",
    "                f.write(t)\n",
    "        except:\n",
    "            img_number += 1\n",
    "            continue\n",
    "        else:\n",
    "            try:\n",
    "                size = os.path.getsize(filename)\n",
    "                img = Image.open(filename)\n",
    "            except:\n",
    "                os.remove(filename)\n",
    "            else:\n",
    "                height, width = img.size\n",
    "                pixels = height * width\n",
    "                if int(size) >= 40000 and pixels >= 200000 and 0.5625 <= height/width < 2:\n",
    "                    #print(size, pixels)\n",
    "                    saved_count += 1\n",
    "                    #print('Image Saved: {0}/{1}, {2}KB, {3}MP'.format(saved_count, img_number+1,\n",
    "                    #    round(size/1000, 2), round(pixels/1000000, 2)))\n",
    "                else:\n",
    "                    os.remove(filename)\n",
    "                img_number += 1\n",
    "    print('Image Saved: {0}/{1}'.format(saved_count, img_number))\n",
    "    with open('/Users/latankkomaengee/2020 UGRP/Face/' + str(names.index(name)+1) + \\\n",
    "        '/' + neat_name(name) + '.txt', 'w') as f:\n",
    "        f.write('')\n",
    "\n",
    "\n",
    "driver.close()"
   ]
  },
  {
   "cell_type": "markdown",
   "source": [
    "### Test Code"
   ],
   "metadata": {
    "collapsed": false,
    "pycharm": {
     "name": "#%% md\n"
    }
   }
  },
  {
   "cell_type": "code",
   "execution_count": null,
   "outputs": [],
   "source": [
    "url = 'https://www.google.co.in/search?q=' + '오마이걸 아린' + \\\n",
    "'&tbm=isch&tbs=isz%3Al&hl=en-GB&ved=0CAEQpwVqFwoTCKDUxoS-0eoCFQAAAAAdAAAAABAC&biw=1200&bih=860'\n",
    "driver = webdriver.Chrome(path)\n",
    "driver.get(url)\n",
    "\n",
    "a = driver.find_elements_by_class_name('rg_i')\n",
    "\n",
    "create_folder('/Users/latankkomaengee/Desktop/Test')\n",
    "\n",
    "saved_count = 0\n",
    "img_number = 0\n",
    "\n",
    "while saved_count < 5:\n",
    "    print(img_number, saved_count)\n",
    "    if img_number > 14:\n",
    "        break\n",
    "    b = a[img_number]\n",
    "    b.click()\n",
    "    time.sleep(1.5)\n",
    "    try:\n",
    "        c = driver.find_element_by_xpath\\\n",
    "            ('//*[@id=\"Sva75c\"]/div/div/div[3]/div[2]/c-wiz/div[1]/div[1]/div/div[2]/a/img')\n",
    "        source = c.get_attribute('src')\n",
    "        #print(source)\n",
    "        #os.system('curl ' + source + ' > /Users/latankkomaengee/Desktop/Test/' + str(i+1) + '.jpg')\n",
    "        t = urlopen(source).read()\n",
    "        filename = '/Users/latankkomaengee/Desktop/Test/' + \\\n",
    "            str(saved_count+1) + '.jpg'\n",
    "        with open(filename, \"wb\") as f:\n",
    "            f.write(t)\n",
    "    except:\n",
    "        img_number += 1\n",
    "        continue\n",
    "    else:\n",
    "        size = os.path.getsize(filename)\n",
    "        print(size)\n",
    "        img = Image.open(filename)\n",
    "        height, width = img.size\n",
    "        pixels = height * width\n",
    "        print(pixels)\n",
    "        if int(size) >= 200000 and pixels >= 960000:\n",
    "            saved_count += 1\n",
    "        else:\n",
    "            os.remove(filename)\n",
    "        img_number += 1\n",
    "new = '오마이걸 아린'.replace(' ', '_')\n",
    "with open('/Users/latankkomaengee/Desktop/Test/' + new + '.txt', 'w') as f:\n",
    "    f.write('')\n",
    "driver.close()"
   ],
   "metadata": {
    "collapsed": false,
    "pycharm": {
     "name": "#%%\n"
    }
   }
  },
  {
   "cell_type": "markdown",
   "source": [
    "### Drive Close"
   ],
   "metadata": {
    "collapsed": false,
    "pycharm": {
     "name": "#%% md\n"
    }
   }
  },
  {
   "cell_type": "code",
   "execution_count": null,
   "metadata": {
    "pycharm": {
     "name": "#%%\n"
    }
   },
   "outputs": [],
   "source": [
    "driver.close()"
   ]
  },
  {
   "cell_type": "markdown",
   "source": [
    "### Renaming Code"
   ],
   "metadata": {
    "collapsed": false,
    "pycharm": {
     "name": "#%% md\n"
    }
   }
  },
  {
   "cell_type": "code",
   "execution_count": null,
   "outputs": [],
   "source": [
    "import os\n",
    "\n",
    "def change_filename(path):\n",
    "    folder = os.listdir(path)\n",
    "    if '.DS_Store' in folder:\n",
    "        folder.remove('.DS_Store')\n",
    "    sorted_folder = [x for x in folder if x.endswith('.jpg')]\n",
    "    sorted_folder = sorted(sorted_folder, key=int)\n",
    "    print(sorted_folder)\n",
    "    for filename in sorted_folder:\n",
    "        os.rename(path + filename, path + str(sorted_folder.index(filename)+1) + '.jpg')\n",
    "\n",
    "celebs = sorted(os.listdir('/Users/latankkomaengee/Desktop/Face_200730_1'),key=int)\n",
    "if '.DS_Store' in celebs:\n",
    "    celebs.remove('.DS_Store')\n",
    "\n",
    "for celeb in celebs[0:1]:\n",
    "    path = '/Users/latankkomaengee/Desktop/Face_200730_1/' + celeb + '/'\n",
    "    change_filename(path)"
   ],
   "metadata": {
    "collapsed": false,
    "pycharm": {
     "name": "#%%\n"
    }
   }
  },
  {
   "cell_type": "code",
   "execution_count": null,
   "outputs": [],
   "source": [
    "a = ['and.txt', 'and.jpg', 'and.png']\n",
    "b = [x for x in a if x.endswith('.txt')]\n",
    "print(b)"
   ],
   "metadata": {
    "collapsed": false,
    "pycharm": {
     "name": "#%%\n"
    }
   }
  },
  {
   "cell_type": "code",
   "execution_count": null,
   "outputs": [],
   "source": [
    "import os\n",
    "\n",
    "def stripping(file):\n",
    "    stripped = file.strip()\n",
    "    return stripped\n",
    "\n",
    "folders = os.listdir('/Users/latankkomaengee/Desktop/Face_refined')\n",
    "print(folders)\n",
    "\n",
    "for folder in folders:\n",
    "    files = os.listdir('/Users/latankkomaengee/Desktop/Face_refined/' + folder)\n",
    "    for file in files:\n",
    "        file_path = '/Users/latankkomaengee/Desktop/Face_refined' + folder + '/'\n",
    "        os.rename(file_path + file, file_path + stripping(file))"
   ],
   "metadata": {
    "collapsed": false,
    "pycharm": {
     "name": "#%%\n"
    }
   }
  },
  {
   "cell_type": "code",
   "execution_count": null,
   "outputs": [],
   "source": [],
   "metadata": {
    "collapsed": false,
    "pycharm": {
     "name": "#%%\n"
    }
   }
  }
 ]
}